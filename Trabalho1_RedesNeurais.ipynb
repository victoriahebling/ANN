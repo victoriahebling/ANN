{
  "nbformat": 4,
  "nbformat_minor": 0,
  "metadata": {
    "colab": {
      "name": "Trabalho1_RedesNeurais.ipynb",
      "provenance": [],
      "authorship_tag": "ABX9TyObJVWYngJ1RiSm5YRO7sVD",
      "include_colab_link": true
    },
    "kernelspec": {
      "name": "python3",
      "display_name": "Python 3"
    },
    "language_info": {
      "name": "python"
    }
  },
  "cells": [
    {
      "cell_type": "markdown",
      "metadata": {
        "id": "view-in-github",
        "colab_type": "text"
      },
      "source": [
        "<a href=\"https://colab.research.google.com/github/victoriahebling/ANN/blob/main/Trabalho1_RedesNeurais.ipynb\" target=\"_parent\"><img src=\"https://colab.research.google.com/assets/colab-badge.svg\" alt=\"Open In Colab\"/></a>"
      ]
    },
    {
      "cell_type": "code",
      "metadata": {
        "colab": {
          "base_uri": "https://localhost:8080/"
        },
        "id": "Sntp7nmDpriH",
        "outputId": "60a7259f-c727-4664-dc60-d1278270bde7"
      },
      "source": [
        "print('\\033[1;37;44mTrabalho 1 - Disciplina: Tópicos Especiais em Engenharia Bioquímica II: Redes neurais aplicadas a Engenharia Química \\n\\nAluna: Victória Hebling Arroyo\\033[m')"
      ],
      "execution_count": null,
      "outputs": [
        {
          "output_type": "stream",
          "text": [
            "\u001b[1;37;44mTrabalho 1 - Disciplina: Tópicos Especiais em Engenharia Bioquímica II: Redes neurais aplicadas a Engenharia Química \n",
            "\n",
            "Aluna: Victória Hebling Arroyo\u001b[m\n"
          ],
          "name": "stdout"
        }
      ]
    },
    {
      "cell_type": "code",
      "metadata": {
        "colab": {
          "base_uri": "https://localhost:8080/"
        },
        "id": "g2AXt0WAqb5f",
        "outputId": "586b06cb-06ac-4530-aef3-edd617a508d8"
      },
      "source": [
        "print('ARTIGO SELECIONADO')\n",
        "print('Título: Modeling the adsorption of benzeneacetic acid on CaO2 nanoparticles using artificial neural network')\n",
        "print('Autores: Sapana S. Madan a, Kailas L. Wasewar a,*, S.L. Pandharipande\\n')\n",
        "print('INFORMAÇÕES\\nPara construir a tabela de dados .cvs abreviou-se o nome das variavéis. Sendo elas:')\n",
        "print('Ci: Initial Concentration of Benzeneacetic acid')\n",
        "print('CaO2: Absorbent dosage of CaO2 nanoparticles')\n",
        "print('Ce: Equilibrium Conc. of Benzeneacetic acid')\n",
        "print('Qtdabs: Amount of CaO2 nanoparticles absorbed')\n",
        "print('Efic: % Removal efficiency')"
      ],
      "execution_count": null,
      "outputs": [
        {
          "output_type": "stream",
          "text": [
            "ARTIGO SELECIONADO\n",
            "Título: Modeling the adsorption of benzeneacetic acid on CaO2 nanoparticles using artificial neural network\n",
            "Autores: Sapana S. Madan a, Kailas L. Wasewar a,*, S.L. Pandharipande\n",
            "\n",
            "INFORMAÇÕES\n",
            "Para construir a tabela de dados .cvs abreviou-se o nome das variavéis. Sendo elas:\n",
            "Ci: Initial Concentration of Benzeneacetic acid\n",
            "CaO2: Absorbent dosage of CaO2 nanoparticles\n",
            "Ce: Equilibrium Conc. of Benzeneacetic acid\n",
            "Qtdabs: Amount of CaO2 nanoparticles absorbed\n",
            "Efic: % Removal efficiency\n"
          ],
          "name": "stdout"
        }
      ]
    },
    {
      "cell_type": "code",
      "metadata": {
        "id": "IpTcvEN9z5ds",
        "colab": {
          "base_uri": "https://localhost:8080/",
          "height": 52
        },
        "outputId": "f84c52fb-0e7a-469d-c5bd-571c39456765"
      },
      "source": [
        "#importação de bibliotecas \n",
        "''' O primeiro passo ao programar uma rede neural é a importação das \n",
        "bibliotecas que serão utilizadas, de forma a utilizar módulos e funções \n",
        "que minimizem o código'''\n",
        "\n",
        "import numpy as np\n",
        "'''O NumPy é uma biblioteca para a linguagem Python com funções \n",
        "para se trabalhar com computação numérica. Neste caso estamos \n",
        "chamando numpy de np para economizar tempo na digitação deste código'''\n",
        "\n",
        "import pandas as pd\n",
        "'''Pandas é um biblioteca para manipulação e análise de dados. \n",
        "Neste caso estamos chamando pandas de pd para economizar tempo \n",
        "na digitação deste código'''\n",
        "\n",
        "import matplotlib.pyplot as plt\n",
        "'''Matplotlib.pyplot serve para plotar gráficos, sendo que esta\n",
        "biblioteca permite a personalização dos gráficos, tais como: tamanho\n",
        "da figura, largura da linha, cor, estilo e etc...'''\n",
        "\n",
        "from sklearn.neural_network import MLPRegressor \n",
        "'''Como a variável do artigo selecionado é contínua, então usaremos\n",
        " para este aprendizado a classe de algoritmo denominada Regressão,\n",
        " sendo esta encontrada dentro da biblioteca sklearn.neural_network.'''\n",
        "\n",
        "from sklearn.metrics import mean_squared_error\n",
        "'''sklearn.metricas é uma biblioteca que serve para cálculos de métricas,\n",
        "tais como mean squared error (soma dos quadrados dos desvios)'''\n",
        "\n",
        "from sklearn.metrics import r2_score \n",
        "'''sklearn.metricas é uma biblioteca que serve para cálculos de métricas,\n",
        "tais como o r2 que serve para ver como está o ajuste dos dados, sendo que\n",
        "quanto mais próximo de 1, melhor está o ajuste dos dados'''\n"
      ],
      "execution_count": null,
      "outputs": [
        {
          "output_type": "execute_result",
          "data": {
            "application/vnd.google.colaboratory.intrinsic+json": {
              "type": "string"
            },
            "text/plain": [
              "'sklearn.metricas é uma biblioteca que serve para cálculos de métricas,\\ntais como o r2 que serve para ver como está o ajuste dos dados, sendo que\\nquanto mais próximo de 1, melhor está o ajuste dos dados'"
            ]
          },
          "metadata": {
            "tags": []
          },
          "execution_count": 76
        }
      ]
    },
    {
      "cell_type": "code",
      "metadata": {
        "id": "_Zyt0rbgzrXi"
      },
      "source": [
        "# abrindo o arquivo .csv a partir do repositório do Github\n",
        "''' Após a importação das bibliotecas, é importante que os dados importados\n",
        "para o colab, sendo assim, colocou-se a planilha no gihub e ao acessar \n",
        "os dados que foram colocados, clicou-se em raw e desta forma, abriu-se o arquivo\n",
        "de forma simples. É importante ressaltar que é interessante que o formato do\n",
        "excel a ser colodo no github seja .csv (comma separated values), para\n",
        "que os dados não sejam corrompidos. Além disso, comando abaixo utilizou-se delimiter\n",
        "visto que ao salvar o arquivo .csv no excel este estava usando ; para separar\n",
        "as colunas e não , como o próprio nome diz (csv=valores separados por vírgulas) '''\n",
        "\n",
        "link = 'https://raw.githubusercontent.com/victoriahebling/ANN/main/dadosANN2.csv'\n",
        "df = pd.read_csv(link,delimiter=';')"
      ],
      "execution_count": null,
      "outputs": []
    },
    {
      "cell_type": "code",
      "metadata": {
        "colab": {
          "base_uri": "https://localhost:8080/",
          "height": 153
        },
        "id": "jPHKdFTCTkvf",
        "outputId": "54aeece0-49e4-481d-9073-16436b760145"
      },
      "source": [
        "#checando se o arquivo .csv abre normalmente\n",
        "'''Antes de prosseguirmos com o código é interessante sabermos se o arquivo\n",
        "está sendo aberto corretamente, para isto, o programa irá analisar as três\n",
        "primeiras linhas, sendo a palavra head, do inglês, cabeça, ou seja, o presente\n",
        "código abaixo irá imprimir as linhas iniciais'''\n",
        "\n",
        "print('Três primeiras linhas')\n",
        "df.head(3)\n"
      ],
      "execution_count": null,
      "outputs": [
        {
          "output_type": "stream",
          "text": [
            "Três primeiras linhas\n"
          ],
          "name": "stdout"
        },
        {
          "output_type": "execute_result",
          "data": {
            "text/html": [
              "<div>\n",
              "<style scoped>\n",
              "    .dataframe tbody tr th:only-of-type {\n",
              "        vertical-align: middle;\n",
              "    }\n",
              "\n",
              "    .dataframe tbody tr th {\n",
              "        vertical-align: top;\n",
              "    }\n",
              "\n",
              "    .dataframe thead th {\n",
              "        text-align: right;\n",
              "    }\n",
              "</style>\n",
              "<table border=\"1\" class=\"dataframe\">\n",
              "  <thead>\n",
              "    <tr style=\"text-align: right;\">\n",
              "      <th></th>\n",
              "      <th>No</th>\n",
              "      <th>Ci</th>\n",
              "      <th>CaO2</th>\n",
              "      <th>Ce</th>\n",
              "      <th>Qtdabs</th>\n",
              "      <th>Efic</th>\n",
              "    </tr>\n",
              "  </thead>\n",
              "  <tbody>\n",
              "    <tr>\n",
              "      <th>0</th>\n",
              "      <td>1</td>\n",
              "      <td>0.099</td>\n",
              "      <td>0.002</td>\n",
              "      <td>0.062</td>\n",
              "      <td>0.049</td>\n",
              "      <td>36.87</td>\n",
              "    </tr>\n",
              "    <tr>\n",
              "      <th>1</th>\n",
              "      <td>2</td>\n",
              "      <td>0.099</td>\n",
              "      <td>0.004</td>\n",
              "      <td>0.057</td>\n",
              "      <td>0.056</td>\n",
              "      <td>41.92</td>\n",
              "    </tr>\n",
              "    <tr>\n",
              "      <th>2</th>\n",
              "      <td>3</td>\n",
              "      <td>0.099</td>\n",
              "      <td>0.006</td>\n",
              "      <td>0.063</td>\n",
              "      <td>0.048</td>\n",
              "      <td>35.86</td>\n",
              "    </tr>\n",
              "  </tbody>\n",
              "</table>\n",
              "</div>"
            ],
            "text/plain": [
              "   No     Ci   CaO2     Ce  Qtdabs   Efic\n",
              "0   1  0.099  0.002  0.062   0.049  36.87\n",
              "1   2  0.099  0.004  0.057   0.056  41.92\n",
              "2   3  0.099  0.006  0.063   0.048  35.86"
            ]
          },
          "metadata": {
            "tags": []
          },
          "execution_count": 78
        }
      ]
    },
    {
      "cell_type": "code",
      "metadata": {
        "colab": {
          "base_uri": "https://localhost:8080/",
          "height": 153
        },
        "id": "aY9HPc7iUHVT",
        "outputId": "48e61a5d-f7f7-4976-d809-294880501c43"
      },
      "source": [
        "#checando se o arquivo .csv abre norlmalmente\n",
        "'''Para sabermos se o arquivo está sendo aberto corretamente, é interessante\n",
        "saber se está imprimindo os últimos dados corretamente, sendo assim, utilizamos\n",
        "o comando tail, do inglês, cauda, ou seja, o presente código abaixo irá imprimir\n",
        "as últimas linhas'''\n",
        "\n",
        "print('Três últimas linhas')\n",
        "df.tail(3)"
      ],
      "execution_count": null,
      "outputs": [
        {
          "output_type": "stream",
          "text": [
            "Três últimas linhas\n"
          ],
          "name": "stdout"
        },
        {
          "output_type": "execute_result",
          "data": {
            "text/html": [
              "<div>\n",
              "<style scoped>\n",
              "    .dataframe tbody tr th:only-of-type {\n",
              "        vertical-align: middle;\n",
              "    }\n",
              "\n",
              "    .dataframe tbody tr th {\n",
              "        vertical-align: top;\n",
              "    }\n",
              "\n",
              "    .dataframe thead th {\n",
              "        text-align: right;\n",
              "    }\n",
              "</style>\n",
              "<table border=\"1\" class=\"dataframe\">\n",
              "  <thead>\n",
              "    <tr style=\"text-align: right;\">\n",
              "      <th></th>\n",
              "      <th>No</th>\n",
              "      <th>Ci</th>\n",
              "      <th>CaO2</th>\n",
              "      <th>Ce</th>\n",
              "      <th>Qtdabs</th>\n",
              "      <th>Efic</th>\n",
              "    </tr>\n",
              "  </thead>\n",
              "  <tbody>\n",
              "    <tr>\n",
              "      <th>13</th>\n",
              "      <td>14</td>\n",
              "      <td>0.05</td>\n",
              "      <td>0.01</td>\n",
              "      <td>0.020</td>\n",
              "      <td>0.041</td>\n",
              "      <td>60.0</td>\n",
              "    </tr>\n",
              "    <tr>\n",
              "      <th>14</th>\n",
              "      <td>15</td>\n",
              "      <td>0.04</td>\n",
              "      <td>0.01</td>\n",
              "      <td>0.006</td>\n",
              "      <td>0.047</td>\n",
              "      <td>86.3</td>\n",
              "    </tr>\n",
              "    <tr>\n",
              "      <th>15</th>\n",
              "      <td>16</td>\n",
              "      <td>0.03</td>\n",
              "      <td>0.01</td>\n",
              "      <td>0.004</td>\n",
              "      <td>0.036</td>\n",
              "      <td>88.3</td>\n",
              "    </tr>\n",
              "  </tbody>\n",
              "</table>\n",
              "</div>"
            ],
            "text/plain": [
              "    No    Ci  CaO2     Ce  Qtdabs  Efic\n",
              "13  14  0.05  0.01  0.020   0.041  60.0\n",
              "14  15  0.04  0.01  0.006   0.047  86.3\n",
              "15  16  0.03  0.01  0.004   0.036  88.3"
            ]
          },
          "metadata": {
            "tags": []
          },
          "execution_count": 79
        }
      ]
    },
    {
      "cell_type": "code",
      "metadata": {
        "id": "yJKEfhDK2kkW",
        "colab": {
          "base_uri": "https://localhost:8080/",
          "height": 71
        },
        "outputId": "27598583-f236-4e61-c6c6-4f3837a5864f"
      },
      "source": [
        "# separando as colunas que são de interesse\n",
        "''' Como não são todas as linhas que possuem relevância para a construção \n",
        "desta rede neural, iremos selecionar quais são as colunas de interesse'''\n",
        "\n",
        "selectDATA=[]\n",
        "''' Antes de selecionar quais colunas são de nosso interesse, criaremos uma\n",
        "lista denominada selectDATA que inicialmente está vazia'''\n",
        "\n",
        "selectDATA=df.iloc[:,[1,2,3,4,5]].copy()\n",
        "''' através do comando iloc (index location), iremos localizar quais são\n",
        "os dados de interesse para a análise, sendo que dentro deste comando, :\n",
        "indica que todas as linhas de dados serão selecionadas, e [1,2,3,4,5]\n",
        "indica que serão selecionadas as colunas de 1 a 5. Vale ressaltar que, a\n",
        "coluna 1 refere-se a segunda coluna da planilha de dados, visto que, no\n",
        "Python a contagem de linhas e colunas se inicia no 0. Além disto, o comando\n",
        ".copy() serve para que mão sejam feitas associações lógicas'''\n"
      ],
      "execution_count": null,
      "outputs": [
        {
          "output_type": "execute_result",
          "data": {
            "application/vnd.google.colaboratory.intrinsic+json": {
              "type": "string"
            },
            "text/plain": [
              "' através do comando iloc (index location), iremos localizar quais são\\nos dados de interesse para a análise, sendo que dentro deste comando, :\\nindica que todas as linhas de dados serão selecionadas, e [1,2,3,4,5]\\nindica que serão selecionadas as colunas de 1 a 5. Vale ressaltar que, a\\ncoluna 1 refere-se a segunda coluna da planilha de dados, visto que, no\\nPython a contagem de linhas e colunas se inicia no 0. Além disto, o comando\\n.copy() serve para que mão sejam feitas associações lógicas'"
            ]
          },
          "metadata": {
            "tags": []
          },
          "execution_count": 80
        }
      ]
    },
    {
      "cell_type": "code",
      "metadata": {
        "colab": {
          "base_uri": "https://localhost:8080/",
          "height": 135
        },
        "id": "ZrZdjbvEUhJi",
        "outputId": "727f5113-43d3-45d5-b478-4663e5ed90a1"
      },
      "source": [
        "# checando se as colunas e linhas selecionadas abrem normalmente\n",
        "'''Da mesma forma como fizemos anteriormente para ver o arquivo do github\n",
        "abria normalmente, iremos analisar se realmente foram selecionados os \n",
        "dados de interesse a partir do comando de Index location utilizado anteriormente'''\n",
        "\n",
        "selectDATA.head(3)\n"
      ],
      "execution_count": null,
      "outputs": [
        {
          "output_type": "execute_result",
          "data": {
            "text/html": [
              "<div>\n",
              "<style scoped>\n",
              "    .dataframe tbody tr th:only-of-type {\n",
              "        vertical-align: middle;\n",
              "    }\n",
              "\n",
              "    .dataframe tbody tr th {\n",
              "        vertical-align: top;\n",
              "    }\n",
              "\n",
              "    .dataframe thead th {\n",
              "        text-align: right;\n",
              "    }\n",
              "</style>\n",
              "<table border=\"1\" class=\"dataframe\">\n",
              "  <thead>\n",
              "    <tr style=\"text-align: right;\">\n",
              "      <th></th>\n",
              "      <th>Ci</th>\n",
              "      <th>CaO2</th>\n",
              "      <th>Ce</th>\n",
              "      <th>Qtdabs</th>\n",
              "      <th>Efic</th>\n",
              "    </tr>\n",
              "  </thead>\n",
              "  <tbody>\n",
              "    <tr>\n",
              "      <th>0</th>\n",
              "      <td>0.099</td>\n",
              "      <td>0.002</td>\n",
              "      <td>0.062</td>\n",
              "      <td>0.049</td>\n",
              "      <td>36.87</td>\n",
              "    </tr>\n",
              "    <tr>\n",
              "      <th>1</th>\n",
              "      <td>0.099</td>\n",
              "      <td>0.004</td>\n",
              "      <td>0.057</td>\n",
              "      <td>0.056</td>\n",
              "      <td>41.92</td>\n",
              "    </tr>\n",
              "    <tr>\n",
              "      <th>2</th>\n",
              "      <td>0.099</td>\n",
              "      <td>0.006</td>\n",
              "      <td>0.063</td>\n",
              "      <td>0.048</td>\n",
              "      <td>35.86</td>\n",
              "    </tr>\n",
              "  </tbody>\n",
              "</table>\n",
              "</div>"
            ],
            "text/plain": [
              "      Ci   CaO2     Ce  Qtdabs   Efic\n",
              "0  0.099  0.002  0.062   0.049  36.87\n",
              "1  0.099  0.004  0.057   0.056  41.92\n",
              "2  0.099  0.006  0.063   0.048  35.86"
            ]
          },
          "metadata": {
            "tags": []
          },
          "execution_count": 81
        }
      ]
    },
    {
      "cell_type": "code",
      "metadata": {
        "id": "DLiPKMSa4JgK",
        "colab": {
          "base_uri": "https://localhost:8080/",
          "height": 71
        },
        "outputId": "1c5485da-eec8-4c35-9312-e5deaa68aefa"
      },
      "source": [
        "# funcao normatiza dados e função Original\n",
        "\n",
        "def Funcao_normatiza(x):\n",
        "    strings=list(x)\n",
        "    for i in strings:\n",
        "        max_x=x[i].max() #comando pra pegar o max\n",
        "        min_x=x[i].min() #comando pra pegar o min\n",
        "        a=(max_x+min_x)/2\n",
        "        b=(max_x-min_x)/2\n",
        "        x[i]=(x[i]-a)/b\n",
        "    return x\n",
        "\n",
        "def Original(x,x_old):\n",
        "    strings=list(x)\n",
        "    for i in strings:\n",
        "        max_x=x_old[i].max()\n",
        "        min_x=x_old[i].min()\n",
        "        a=(max_x+min_x)/2\n",
        "        b=(max_x-min_x)/2\n",
        "        x[i]=x[i]*b+a\n",
        "    return x\n",
        "\n",
        "''' A função normatiza serve para normatizar os dados, ou seja, \n",
        " transformar todas as variáveis na mesma ordem de grandeza. \n",
        "\n",
        " variavel codificada = a+b*(x original)\n",
        "    quando x original for x max, o valor codificado vai ser 1\n",
        "    1 = a+b(x maximo)\n",
        "    quando x oroginal for x min, o valor codificafo vai ser -1\n",
        "    -1 =a+b(x minimo)\n",
        "    então multiplicando essa ultima equação por (-1) e somando\n",
        "    2 = b(x maximo - x minimo)\n",
        "    entao consegue calcular o b passando dividindo, \n",
        "    joga dps na equação e acha o a'''\n"
      ],
      "execution_count": null,
      "outputs": [
        {
          "output_type": "execute_result",
          "data": {
            "application/vnd.google.colaboratory.intrinsic+json": {
              "type": "string"
            },
            "text/plain": [
              "' A função normatiza serve para normatizar os dados, ou seja, \\n transformar todas as variáveis na mesma ordem de grandeza. \\n\\n variavel codificada = a+b*(x original)\\n    quando x original for x max, o valor codificado vai ser 1\\n    1 = a+b(x maximo)\\n    quando x oroginal for x min, o valor codificafo vai ser -1\\n    -1 =a+b(x minimo)\\n    então multiplicando essa ultima equação por (-1) e somando\\n    2 = b(x maximo - x minimo)\\n    entao consegue calcular o b passando dividindo, \\n    joga dps na equação e acha o a'"
            ]
          },
          "metadata": {
            "tags": []
          },
          "execution_count": 82
        }
      ]
    },
    {
      "cell_type": "code",
      "metadata": {
        "id": "ktorkV1243XK",
        "colab": {
          "base_uri": "https://localhost:8080/",
          "height": 36
        },
        "outputId": "82630235-5544-4f11-dded-bf28d89d02a1"
      },
      "source": [
        "DAT_1=[]\n",
        "DAT_1=selectDATA.copy()\n",
        "DAT=Funcao_normatiza(selectDATA) \n",
        "\n",
        "''' Primeiramente criou-se uma lista vazia com DAT_1 e posteriormente\n",
        "chamou-se a função (Funcao_normatiza), inserindo os dados selectDATA\n",
        "nesta função'''"
      ],
      "execution_count": null,
      "outputs": [
        {
          "output_type": "execute_result",
          "data": {
            "application/vnd.google.colaboratory.intrinsic+json": {
              "type": "string"
            },
            "text/plain": [
              "' Primeiramente criou-se uma lista vazia com DAT_1 e posteriormente\\nchamou-se a função (Funcao_normatiza), inserindo os dados selectDATA\\nnesta função'"
            ]
          },
          "metadata": {
            "tags": []
          },
          "execution_count": 83
        }
      ]
    },
    {
      "cell_type": "code",
      "metadata": {
        "colab": {
          "base_uri": "https://localhost:8080/",
          "height": 36
        },
        "id": "i_Dv_0W35Vek",
        "outputId": "add27b82-f047-4b6d-ff1f-cf6e2661b4e3"
      },
      "source": [
        "DAT.head(3)\n",
        "\n",
        "'''Analisando se deu certa a normalização realizada, sendo head(3) o comando\n",
        "que nos permite analisar os 3 primeiros dados. Como se pode observar abaixo\n",
        "os dados foram normatizados entre -1 e 1.'''"
      ],
      "execution_count": null,
      "outputs": [
        {
          "output_type": "execute_result",
          "data": {
            "application/vnd.google.colaboratory.intrinsic+json": {
              "type": "string"
            },
            "text/plain": [
              "'Analisando se deu certa a normalização realizada, sendo head(3) o comando\\nque nos permite analisar os 3 primeiros dados. Como se pode observar abaixo\\nos dados foram normatizados entre -1 e 1.'"
            ]
          },
          "metadata": {
            "tags": []
          },
          "execution_count": 84
        }
      ]
    },
    {
      "cell_type": "code",
      "metadata": {
        "id": "8iKyOBdS8alC",
        "colab": {
          "base_uri": "https://localhost:8080/",
          "height": 36
        },
        "outputId": "73f24362-1853-4686-99c7-d59292b6fbac"
      },
      "source": [
        "# separa os dados em treino \n",
        "treino=DAT.sample(frac=0.8,random_state=None) \n",
        "'''sample é um comando que mistura os dados para não ficar tendencioso.\n",
        "frac = 0.8 significa que 80% dos dados serão para treino \n",
        " Já o random_state serve para aleatorizar'''\n"
      ],
      "execution_count": null,
      "outputs": [
        {
          "output_type": "execute_result",
          "data": {
            "application/vnd.google.colaboratory.intrinsic+json": {
              "type": "string"
            },
            "text/plain": [
              "'sample é um comando que mistura os dados para não ficar tendencioso.\\nfrac = 0.8 significa que 80% dos dados serão para treino \\n Já o random_state serve para aleatorizar'"
            ]
          },
          "metadata": {
            "tags": []
          },
          "execution_count": 85
        }
      ]
    },
    {
      "cell_type": "code",
      "metadata": {
        "id": "ALCKhj6h8l3D",
        "colab": {
          "base_uri": "https://localhost:8080/",
          "height": 36
        },
        "outputId": "d06841d7-5169-4ef4-a94a-c583fa6a64a4"
      },
      "source": [
        "# separa os dados em teste\n",
        "test=DAT.drop(treino.index)\n",
        "''' o comando drop serve para indicar que os dados que não foram para teste,\n",
        "irão para treino, ou seja, 20% dos dados.'''"
      ],
      "execution_count": null,
      "outputs": [
        {
          "output_type": "execute_result",
          "data": {
            "application/vnd.google.colaboratory.intrinsic+json": {
              "type": "string"
            },
            "text/plain": [
              "' o comando drop serve para indicar que os dados que não foram para teste,\\nirão para treino, ou seja, 20% dos dados.'"
            ]
          },
          "metadata": {
            "tags": []
          },
          "execution_count": 86
        }
      ]
    },
    {
      "cell_type": "code",
      "metadata": {
        "colab": {
          "base_uri": "https://localhost:8080/",
          "height": 135
        },
        "id": "14VuJ8gy81aE",
        "outputId": "5d3b656c-f063-48cd-d287-f3f0a24fd861"
      },
      "source": [
        "treino.head(3)"
      ],
      "execution_count": null,
      "outputs": [
        {
          "output_type": "execute_result",
          "data": {
            "text/html": [
              "<div>\n",
              "<style scoped>\n",
              "    .dataframe tbody tr th:only-of-type {\n",
              "        vertical-align: middle;\n",
              "    }\n",
              "\n",
              "    .dataframe tbody tr th {\n",
              "        vertical-align: top;\n",
              "    }\n",
              "\n",
              "    .dataframe thead th {\n",
              "        text-align: right;\n",
              "    }\n",
              "</style>\n",
              "<table border=\"1\" class=\"dataframe\">\n",
              "  <thead>\n",
              "    <tr style=\"text-align: right;\">\n",
              "      <th></th>\n",
              "      <th>Ci</th>\n",
              "      <th>CaO2</th>\n",
              "      <th>Ce</th>\n",
              "      <th>Qtdabs</th>\n",
              "      <th>Efic</th>\n",
              "    </tr>\n",
              "  </thead>\n",
              "  <tbody>\n",
              "    <tr>\n",
              "      <th>12</th>\n",
              "      <td>-0.130435</td>\n",
              "      <td>-0.666667</td>\n",
              "      <td>-0.166667</td>\n",
              "      <td>-0.877551</td>\n",
              "      <td>-0.372587</td>\n",
              "    </tr>\n",
              "    <tr>\n",
              "      <th>5</th>\n",
              "      <td>1.000000</td>\n",
              "      <td>-0.250000</td>\n",
              "      <td>0.194444</td>\n",
              "      <td>-0.204082</td>\n",
              "      <td>-0.192223</td>\n",
              "    </tr>\n",
              "    <tr>\n",
              "      <th>11</th>\n",
              "      <td>0.159420</td>\n",
              "      <td>-0.666667</td>\n",
              "      <td>0.055556</td>\n",
              "      <td>-0.816327</td>\n",
              "      <td>-0.480143</td>\n",
              "    </tr>\n",
              "  </tbody>\n",
              "</table>\n",
              "</div>"
            ],
            "text/plain": [
              "          Ci      CaO2        Ce    Qtdabs      Efic\n",
              "12 -0.130435 -0.666667 -0.166667 -0.877551 -0.372587\n",
              "5   1.000000 -0.250000  0.194444 -0.204082 -0.192223\n",
              "11  0.159420 -0.666667  0.055556 -0.816327 -0.480143"
            ]
          },
          "metadata": {
            "tags": []
          },
          "execution_count": 87
        }
      ]
    },
    {
      "cell_type": "code",
      "metadata": {
        "id": "hZKcqjc_9O8E"
      },
      "source": [
        "# obtem as variaveis independentes (treino e teste)\n",
        "'''através do comando iloc (index location), iremos localizar quais são\n",
        "os dados referentes a variáceis independentes. Neste caso, selecionou-se\n",
        "todas as linhas e apenas as colunas Ci e CaO2 (colunas 0 e 1)'''\n",
        "\n",
        "x_treino=treino.iloc[:,[0,1]] \n",
        "x_test=test.iloc[:,[0,1]]\n",
        "X_OLD=DAT_1.iloc[:,[0,1]]"
      ],
      "execution_count": null,
      "outputs": []
    },
    {
      "cell_type": "code",
      "metadata": {
        "id": "gig7MRTS9qaC",
        "colab": {
          "base_uri": "https://localhost:8080/",
          "height": 36
        },
        "outputId": "bf9be153-8690-48e3-b13f-0073b1949d11"
      },
      "source": [
        "# obtem as variaveis dependentes (treino e teste)\n",
        "Index=[4]  \n",
        "'''Desta forma selecionou-se apenas a coluna 4 como sendo variável dependente,\n",
        "ou seja, a variável Efic. Poderia ter sido feito para todas (Ce, Qtdabs e Efic),\n",
        "no entando, para fins didáticos utilizou-se apenas a coluna Efic'''\n",
        "\n",
        "y_train=treino.iloc[:,Index]\n",
        "y_test=test.iloc[:,Index]\n",
        "Y_OLD=DAT_1.iloc[:,Index]\n",
        "\n",
        "'''O comando .loc[:, Index] indica que todas as linhas foram selecionadas \n",
        "e somente as colunas indicadas anteriormente pela lista Index foram selecionadas,\n",
        "ou seja apenas a coluna 4.'''"
      ],
      "execution_count": null,
      "outputs": [
        {
          "output_type": "execute_result",
          "data": {
            "application/vnd.google.colaboratory.intrinsic+json": {
              "type": "string"
            },
            "text/plain": [
              "'O comando .loc[:, Index] indica que todas as linhas foram selecionadas \\ne somente as colunas indicadas anteriormente pela lista Index foram selecionadas,\\nou seja apenas a coluna 4.'"
            ]
          },
          "metadata": {
            "tags": []
          },
          "execution_count": 89
        }
      ]
    },
    {
      "cell_type": "code",
      "metadata": {
        "id": "Nw7qVHAn-GWb",
        "colab": {
          "base_uri": "https://localhost:8080/",
          "height": 89
        },
        "outputId": "786e6879-d951-4915-ba48-eb3b220387b4"
      },
      "source": [
        "# define a rede neural \n",
        "clf = MLPRegressor(solver='lbfgs',activation='tanh', max_iter=100, alpha=1e-5,hidden_layer_sizes=(5, 5), random_state=1)\n",
        "\n",
        "'''armazenou-se essa rede neural no nome clf, e utilizou-se o módulo MLPRegressor\n",
        "do sklearn, visto que Efic é uma variácel contínua e não categórica, logo, utiliza-se\n",
        "a regressão e não classificação. \n",
        "  O solver é o algoritmo que vai ser usado para resolver esta rede neural, como neste\n",
        "artigo não tem muitos dados, a preferência foi pelo lbfgs, visto que para usar o adam\n",
        "seria melhor que tivessem mais dados.\n",
        "  Activation é a função de ativação.\n",
        "  alpha é um criterio de parada associado ao erro do processo \n",
        "  hidden_layer_size = neuronios na camada oculta, essa rede tem duas camadas, ambas com\n",
        "cinco neurônios cada. Colocou-se essa quantidade de neurônios, pois, no artigo a rede neural\n",
        "possui esta arquitetura.\n",
        "  random_state serve para aleatorizar os dados'''"
      ],
      "execution_count": null,
      "outputs": [
        {
          "output_type": "execute_result",
          "data": {
            "application/vnd.google.colaboratory.intrinsic+json": {
              "type": "string"
            },
            "text/plain": [
              "'armazenou-se essa rede neural no nome clf, e utilizou-se o módulo MLPRegressor\\ndo sklearn, visto que Efic é uma variácel contínua e não categórica, logo, utiliza-se\\na regressão e não classificação. \\n  O solver é o algoritmo que vai ser usado para resolver esta rede neural, como neste\\nartigo não tem muitos dados, a preferência foi pelo lbfgs, visto que para usar o adam\\nseria melhor que tivessem mais dados.\\n  Activation é a função de ativação.\\n  alpha é um criterio de parada associado ao erro do processo \\n  hidden_layer_size = neuronios na camada oculta, essa rede tem duas camadas, ambas com\\ncinco neurônios cada. Colocou-se essa quantidade de neurônios, pois, no artigo a rede neural\\npossui esta arquitetura.\\n  random_state serve para aleatorizar os dados'"
            ]
          },
          "metadata": {
            "tags": []
          },
          "execution_count": 90
        }
      ]
    },
    {
      "cell_type": "code",
      "metadata": {
        "colab": {
          "base_uri": "https://localhost:8080/",
          "height": 91
        },
        "id": "PrZDl-Pq-gG7",
        "outputId": "b72111d0-d72a-4c69-9593-d6eed78dcb24"
      },
      "source": [
        "# treina a rede neural\n",
        "clf.fit(x_treino, y_train)\n",
        "'''nesse momento treinou-se a rede, fez o fit para fazer o ajuste.'''"
      ],
      "execution_count": null,
      "outputs": [
        {
          "output_type": "stream",
          "text": [
            "/usr/local/lib/python3.7/dist-packages/sklearn/neural_network/_multilayer_perceptron.py:1342: DataConversionWarning: A column-vector y was passed when a 1d array was expected. Please change the shape of y to (n_samples, ), for example using ravel().\n",
            "  y = column_or_1d(y, warn=True)\n"
          ],
          "name": "stderr"
        },
        {
          "output_type": "execute_result",
          "data": {
            "application/vnd.google.colaboratory.intrinsic+json": {
              "type": "string"
            },
            "text/plain": [
              "'nesse momento treinou-se a rede, fez o fit para fazer o ajuste.'"
            ]
          },
          "metadata": {
            "tags": []
          },
          "execution_count": 91
        }
      ]
    },
    {
      "cell_type": "code",
      "metadata": {
        "id": "JPyWyc0V_6GR"
      },
      "source": [
        "# usa a rede neural treina em calculos para treino e teste\n",
        "'''validamos em treino e teste, mas poderiamos ter validado em treino, teste e \n",
        "validação, mas como não tem muitos pontos não seria legal estar fazendo isso.\n",
        "'''\n",
        "y_calc_train=clf.predict(x_treino)\n",
        "'''aqui testou a rede, fez uma predição de resposta.\n",
        "Quando poe o nome.predict ele usa aquilo que treinei'''\n",
        "\n",
        "y_calc_test=clf.predict(x_test)"
      ],
      "execution_count": null,
      "outputs": []
    },
    {
      "cell_type": "code",
      "metadata": {
        "id": "LD-jVxjFAJ6v"
      },
      "source": [
        "# transforma a saida da rede em dataframe \n",
        "'''preparando a resposta só para gente comparar'''\n",
        "y_calc_train=pd.DataFrame(y_calc_train)\n",
        "y_calc_test=pd.DataFrame(y_calc_test)\n",
        "col_names=list(y_train)\n",
        "y_calc_train.columns = col_names\n",
        "y_calc_test.columns = col_names"
      ],
      "execution_count": null,
      "outputs": []
    },
    {
      "cell_type": "code",
      "metadata": {
        "id": "CdPyYZt9AdJj"
      },
      "source": [
        "# transforma dos dados calculados na forma original (nao normatizado)\n",
        "'''vai voltar do intervalo -1 e 1 para o intervalo original que tinha'''\n",
        "\n",
        "y_calc_train= Original(y_calc_train,Y_OLD)\n",
        "y_calc_test=Original(y_calc_test,Y_OLD)"
      ],
      "execution_count": null,
      "outputs": []
    },
    {
      "cell_type": "code",
      "metadata": {
        "id": "q6Gw-kxLA_cN"
      },
      "source": [
        "# recupera os dados originais \n",
        "test=[]\n",
        "treino=[]\n",
        "treino=Original(y_train,Y_OLD)\n",
        "test=Original(y_test,Y_OLD)"
      ],
      "execution_count": null,
      "outputs": []
    },
    {
      "cell_type": "code",
      "metadata": {
        "colab": {
          "base_uri": "https://localhost:8080/",
          "height": 428
        },
        "id": "W0ADtiOAHkgm",
        "outputId": "b1246079-c9f2-43f7-a1fa-5acecc32ee0d"
      },
      "source": [
        "treino"
      ],
      "execution_count": null,
      "outputs": [
        {
          "output_type": "execute_result",
          "data": {
            "text/html": [
              "<div>\n",
              "<style scoped>\n",
              "    .dataframe tbody tr th:only-of-type {\n",
              "        vertical-align: middle;\n",
              "    }\n",
              "\n",
              "    .dataframe tbody tr th {\n",
              "        vertical-align: top;\n",
              "    }\n",
              "\n",
              "    .dataframe thead th {\n",
              "        text-align: right;\n",
              "    }\n",
              "</style>\n",
              "<table border=\"1\" class=\"dataframe\">\n",
              "  <thead>\n",
              "    <tr style=\"text-align: right;\">\n",
              "      <th></th>\n",
              "      <th>Efic</th>\n",
              "    </tr>\n",
              "  </thead>\n",
              "  <tbody>\n",
              "    <tr>\n",
              "      <th>12</th>\n",
              "      <td>47.50</td>\n",
              "    </tr>\n",
              "    <tr>\n",
              "      <th>5</th>\n",
              "      <td>54.04</td>\n",
              "    </tr>\n",
              "    <tr>\n",
              "      <th>11</th>\n",
              "      <td>43.60</td>\n",
              "    </tr>\n",
              "    <tr>\n",
              "      <th>15</th>\n",
              "      <td>88.30</td>\n",
              "    </tr>\n",
              "    <tr>\n",
              "      <th>13</th>\n",
              "      <td>60.00</td>\n",
              "    </tr>\n",
              "    <tr>\n",
              "      <th>1</th>\n",
              "      <td>41.92</td>\n",
              "    </tr>\n",
              "    <tr>\n",
              "      <th>2</th>\n",
              "      <td>35.86</td>\n",
              "    </tr>\n",
              "    <tr>\n",
              "      <th>7</th>\n",
              "      <td>94.95</td>\n",
              "    </tr>\n",
              "    <tr>\n",
              "      <th>0</th>\n",
              "      <td>36.87</td>\n",
              "    </tr>\n",
              "    <tr>\n",
              "      <th>4</th>\n",
              "      <td>34.34</td>\n",
              "    </tr>\n",
              "    <tr>\n",
              "      <th>6</th>\n",
              "      <td>81.82</td>\n",
              "    </tr>\n",
              "    <tr>\n",
              "      <th>14</th>\n",
              "      <td>86.30</td>\n",
              "    </tr>\n",
              "    <tr>\n",
              "      <th>3</th>\n",
              "      <td>24.75</td>\n",
              "    </tr>\n",
              "  </tbody>\n",
              "</table>\n",
              "</div>"
            ],
            "text/plain": [
              "     Efic\n",
              "12  47.50\n",
              "5   54.04\n",
              "11  43.60\n",
              "15  88.30\n",
              "13  60.00\n",
              "1   41.92\n",
              "2   35.86\n",
              "7   94.95\n",
              "0   36.87\n",
              "4   34.34\n",
              "6   81.82\n",
              "14  86.30\n",
              "3   24.75"
            ]
          },
          "metadata": {
            "tags": []
          },
          "execution_count": 96
        }
      ]
    },
    {
      "cell_type": "code",
      "metadata": {
        "id": "0A5gi9oWCdzB"
      },
      "source": [
        "# escolhe uma das resposta para fazer o grafico (Efic-treino)\n",
        "efic_obs_train=[]\n",
        "efic_calc_train=[]\n",
        "efic_calc_train=y_calc_train['Efic'].copy()\n",
        "efic_obs_train=treino['Efic'].copy()"
      ],
      "execution_count": null,
      "outputs": []
    },
    {
      "cell_type": "code",
      "metadata": {
        "id": "Q2j-Ht3lCpQY"
      },
      "source": [
        "# escolhe uma das resposta para fazer o grafico (Efic-teste)\n",
        "efic_obs_test=[]\n",
        "efic_calc_test=[]\n",
        "efic_calc_test=y_calc_test['Efic'].copy()\n",
        "efic_obs_test=test['Efic'].copy()"
      ],
      "execution_count": null,
      "outputs": []
    },
    {
      "cell_type": "code",
      "metadata": {
        "colab": {
          "base_uri": "https://localhost:8080/",
          "height": 298
        },
        "id": "16IhT16GCwZZ",
        "outputId": "9b7f1bca-3e8b-4a46-db48-fd24be18b52e"
      },
      "source": [
        "# expressa os dois dados em figura\n",
        "fig = plt.figure()\n",
        "ax1 = fig.add_subplot(111)\n",
        "''' \n",
        "A forma como o gráfico está sendo plotado quer dizer que:\n",
        "fig.add_subplot(ROW,COLUMN,POSITION)\n",
        "\n",
        "ROW = número de linhas\n",
        "COLUMN = número de colunas\n",
        "POSIÇÃO = posição do gráfico que está sendo traçado\n",
        "\n",
        "Ou seja, o gráfico está sendo plotado com uma linha, uma coluna e na primeira posição'''\n",
        "\n",
        "ax1.scatter(efic_obs_test,efic_calc_test, s=20, c='b', marker=\"o\", label='teste')\n",
        "ax1.scatter(efic_obs_train,efic_calc_train, s=20, c='r', marker=\"o\", label='treino')\n",
        "\n",
        "''' s representa o tamanho dos pontos do gráfico, c representa a cor (Ex: b=blue e r=red), \n",
        "marker representa o tipo de marcação (Ex: quadrado (s), círculo(c)) e label \n",
        "representa a legenda'''\n",
        "\n",
        "plt.legend(loc='upper left')\n",
        "''' A legenda do gráfico está sendo plotada na loc (localização) superior à esquerda'''\n",
        "\n",
        "plt.ylabel('Eficiencia Calc')\n",
        "''' Colocando nome do eixo y'''\n",
        "\n",
        "plt.xlabel('Eficiencia Obs')\n",
        "'''Colocando nome do eixo x'''\n",
        "\n",
        "plt.show()\n",
        "'''mostrando o gráfico plotado'''"
      ],
      "execution_count": null,
      "outputs": [
        {
          "output_type": "display_data",
          "data": {
            "image/png": "[encoded data removed]",
            "text/plain": [
              "<Figure size 432x288 with 1 Axes>"
            ]
          },
          "metadata": {
            "tags": [],
            "needs_background": "light"
          }
        },
        {
          "output_type": "execute_result",
          "data": {
            "application/vnd.google.colaboratory.intrinsic+json": {
              "type": "string"
            },
            "text/plain": [
              "'mostrando o gráfico plotado'"
            ]
          },
          "metadata": {
            "tags": []
          },
          "execution_count": 99
        }
      ]
    },
    {
      "cell_type": "code",
      "metadata": {
        "colab": {
          "base_uri": "https://localhost:8080/"
        },
        "id": "bmxqiaH3DaGw",
        "outputId": "5cdb3e5d-edd8-4ad7-f068-5a50efbceb31"
      },
      "source": [
        "mse=mean_squared_error(efic_obs_test,efic_calc_test)\n",
        "print(\"MSE teste=\",mse)\n",
        "R2=r2_score(efic_obs_test,efic_calc_test)\n",
        "print(\"R^2 teste=\",R2)"
      ],
      "execution_count": null,
      "outputs": [
        {
          "output_type": "stream",
          "text": [
            "MSE teste= 64.94456906129791\n",
            "R^2 teste= 0.9191780237501274\n"
          ],
          "name": "stdout"
        }
      ]
    },
    {
      "cell_type": "code",
      "metadata": {
        "colab": {
          "base_uri": "https://localhost:8080/"
        },
        "id": "q0IuzlwDDirS",
        "outputId": "2ffe720e-84a9-44e4-edcc-abec51dc6f1c"
      },
      "source": [
        "mse=mean_squared_error(efic_obs_train,efic_calc_train)\n",
        "print(\"MSE treino=\",mse)\n",
        "R2=r2_score(efic_obs_train,efic_calc_train)\n",
        "print(\"R^2 treino=\",R2)"
      ],
      "execution_count": null,
      "outputs": [
        {
          "output_type": "stream",
          "text": [
            "MSE treino= 7.890712727638036\n",
            "R^2 treino= 0.9849284626804219\n"
          ],
          "name": "stdout"
        }
      ]
    },
    {
      "cell_type": "code",
      "metadata": {
        "colab": {
          "base_uri": "https://localhost:8080/"
        },
        "id": "Uv_ra5zjutMz",
        "outputId": "5de17584-b4c5-49db-9195-734d51bf6247"
      },
      "source": [
        "print('CONCLUSÕES:\\nObserva-se que o R2 tanto do teste quanto do treino foi próximo de 1 o que indica um bom ajuste de dados')"
      ],
      "execution_count": null,
      "outputs": [
        {
          "output_type": "stream",
          "text": [
            "CONCLUSÕES:\n",
            "Observa-se que o R2 tanto do teste quanto do treino foi próximo de 1 o que indica um bom ajuste de dados\n"
          ],
          "name": "stdout"
        }
      ]
    }
  ]
}